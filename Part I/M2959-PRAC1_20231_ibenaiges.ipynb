{
 "cells": [
  {
   "cell_type": "markdown",
   "id": "e6992779",
   "metadata": {},
   "source": [
    "<div style=\"width: 100%; clear: both;\">\n",
    "<div style=\"float: left; width: 50%;\">\n",
    "<img src=\"http://www.uoc.edu/portal/_resources/common/imatges/marca_UOC/UOC_Masterbrand.jpg\" align=\"left\">\n",
    "</div>\n",
    "<div style=\"float: right; width: 50%;\">\n",
    "<p style=\"margin: 0; padding-top: 22px; text-align:right;\">M2.959 · Visualització de dades · PRAC1</p>\n",
    "<p style=\"margin: 0; text-align:right;\">2023-1 · Màster universitari en Ciència de dades (Data science)</p>\n",
    "<p style=\"margin: 0; text-align:right; padding-button: 100px;\">Estudis d'Informàtica, Multimèdia i Telecomunicació\n",
    "\n",
    " </p>\n",
    "</div>\n",
    "</div>\n",
    "<div style=\"width:100%;\">&nbsp;</div>\n",
    "\n",
    "\n",
    "# Visualització de dades \n",
    "## Pràctica, part I: Selecció del conjunt de dades\n",
    "\n",
    "Aquesta activitat, primera part de la pràctica final, consisteix en la selecció per part de l’estudiant d'un conjunt de dades del seu interès que serà usat en el projecte de creació de la visualització de dades, d'acord amb uns criteris establerts."
   ]
  },
  {
   "cell_type": "markdown",
   "id": "8ecc8780",
   "metadata": {},
   "source": [
    "<div class=\"alert alert-block alert-info\">\n",
    "<strong>Nom i cognoms: Ivan Benaiges Trenchs</strong>\n",
    "</div>"
   ]
  },
  {
   "cell_type": "markdown",
   "id": "a61b0cd5",
   "metadata": {},
   "source": [
    "Comencem per importar les llibreries necessàries per obtenir els conjunts de dades originals i poder tractar-los per obtenir el dataset que s'utilitzarà per la realització de la pràctica:"
   ]
  },
  {
   "cell_type": "code",
   "execution_count": 1,
   "id": "cafc384b",
   "metadata": {},
   "outputs": [
    {
     "name": "stdout",
     "output_type": "stream",
     "text": [
      "Requirement already satisfied: chardet in d:\\anaconda3\\envs\\environment_uoc20231pec1-1\\lib\\site-packages (5.2.0)\n",
      "Note: you may need to restart the kernel to use updated packages.\n"
     ]
    }
   ],
   "source": [
    "pip install chardet"
   ]
  },
  {
   "cell_type": "code",
   "execution_count": 2,
   "id": "663bb8b2",
   "metadata": {},
   "outputs": [],
   "source": [
    "import numpy as np\n",
    "import pandas as pd\n",
    "import requests\n",
    "import chardet\n",
    "import numpy as np\n",
    "\n",
    "pd.set_option('display.max_columns', None)\n",
    "seed = 100"
   ]
  },
  {
   "cell_type": "markdown",
   "id": "dfa128ae",
   "metadata": {},
   "source": [
    "En aquesta pràctica es treballarà sobre diferents conjunts de dades que es troben a Open Data BCN (https://opendata-ajuntament.barcelona.cat/) relacionats amb accidents de trànsit que han ocurregut durant els últims anys (2016-2022). Per ser més concrets, amb aquelles dades que descriuen aquelles persones que s'han vist involucrades en un accident."
   ]
  },
  {
   "cell_type": "code",
   "execution_count": 3,
   "id": "bcede56e",
   "metadata": {
    "scrolled": true
   },
   "outputs": [
    {
     "name": "stdout",
     "output_type": "stream",
     "text": [
      "Total d'observacions: 146355\n",
      "Total de variables: 37\n"
     ]
    }
   ],
   "source": [
    "# Carreguem tots els datasets relacionats amb la informació de persones que s'han vist involucrats en els accidents:\n",
    "vAccidents = [\"https://opendata-ajuntament.barcelona.cat/data/dataset/87aa433e-fef8-4ff4-8f9a-d66e9beefff6/resource/d0733ef7-9466-4bf8-b164-f6d0e487d7a6/download/2010_ACCIDENTS_PERSONES_GU_BCN_2010.csv\", \"https://opendata-ajuntament.barcelona.cat/data/dataset/87aa433e-fef8-4ff4-8f9a-d66e9beefff6/resource/8caccf80-ac31-448e-9d7e-da59ee198c83/download/2011_ACCIDENTS_PERSONES_GU_BCN_2011.csv\", \"https://opendata-ajuntament.barcelona.cat/data/dataset/87aa433e-fef8-4ff4-8f9a-d66e9beefff6/resource/9414851a-deeb-49f2-9975-05b8193afe49/download/2012_ACCIDENTS_PERSONES_GU_BCN_2012.csv\", \"https://opendata-ajuntament.barcelona.cat/data/dataset/87aa433e-fef8-4ff4-8f9a-d66e9beefff6/resource/4e63c37a-304a-4310-b3eb-d10e64885ca0/download/2013_ACCIDENTS_PERSONES_GU_BCN_2013.csv\", \"https://opendata-ajuntament.barcelona.cat/data/dataset/87aa433e-fef8-4ff4-8f9a-d66e9beefff6/resource/34090ede-942c-4e05-bc1f-f575c339affc/download/2014_ACCIDENTS_PERSONES_GU_BCN_2014.csv\", \"https://opendata-ajuntament.barcelona.cat/data/dataset/87aa433e-fef8-4ff4-8f9a-d66e9beefff6/resource/3e3760b8-ed7d-4ada-a5fe-6ed3988a05ca/download/2015_ACCIDENTS_PERSONES_GU_BCN_2015.csv\", \"https://opendata-ajuntament.barcelona.cat/data/dataset/87aa433e-fef8-4ff4-8f9a-d66e9beefff6/resource/08afa8b9-c2fd-4a11-a416-e8650b7fb838/download/2016_accidents_persones_gu_bcn.csv\", \"https://opendata-ajuntament.barcelona.cat/data/dataset/87aa433e-fef8-4ff4-8f9a-d66e9beefff6/resource/435d38f9-0b15-4bd0-b32e-e187965de8db/download/2017_accidents_persones_gu_bcn_.csv\", \"https://opendata-ajuntament.barcelona.cat/data/dataset/87aa433e-fef8-4ff4-8f9a-d66e9beefff6/resource/c6b05180-8084-4d89-a80c-f56de1f8e4de/download/2018_accidents_persones_gu_bcn_.csv\", \"https://opendata-ajuntament.barcelona.cat/data/dataset/87aa433e-fef8-4ff4-8f9a-d66e9beefff6/resource/172025e0-8348-4376-9266-550a9b227ea4/download/2019_accidents_persones_gu_bcn_.csv\", \"https://opendata-ajuntament.barcelona.cat/data/dataset/87aa433e-fef8-4ff4-8f9a-d66e9beefff6/resource/3df166fe-ceec-4b20-811d-4b58c29d7cb1/download/2020_accidents_persones_gu_bcn.csv\", \"https://opendata-ajuntament.barcelona.cat/data/dataset/87aa433e-fef8-4ff4-8f9a-d66e9beefff6/resource/f44be417-434c-4c53-8ce3-5a5b1ed8955c/download/2021_accidents_persones_gu_bcn.csv\", \"https://opendata-ajuntament.barcelona.cat/data/dataset/87aa433e-fef8-4ff4-8f9a-d66e9beefff6/resource/709aa0d3-15ef-472a-a303-976329af44a7/download/2022_accidents_persones_gu_bcn.csv\"]\n",
    "dfAccidents = pd.DataFrame()\n",
    "\n",
    "# Per cada fitxer, carregarem les dades:\n",
    "for url in vAccidents:\n",
    "    # Depenent de la codificació, carreguem les dades d'una forma o una altra:\n",
    "    respuesta = requests.get(url, stream=True)\n",
    "    datos = respuesta.raw.read(1000000)\n",
    "    resultado = chardet.detect(datos)\n",
    "    \n",
    "    dfTemp = pd.read_csv(url, sep=',', encoding=resultado['encoding'])\n",
    "    \n",
    "    # Modifiquem el nom de les variables per adequar-los per tots els anys:\n",
    "    nou = {'Número d\\'expedient': 'Numero_expedient', 'N£mero d\\'expedient': 'Numero_expedient', 'Codi districte': 'Codi_districte', 'Nom districte': 'Nom_districte', 'Codi barri': 'Codi_barri', 'Nom barri': 'Nom_barri', 'Codi carrer': 'Codi_carrer', 'Nom carrer': 'Nom_carrer', 'Num postal caption': 'Num_postal', 'Descripció dia setmana': 'Descripcio_dia_setmana', 'Descripci¢ dia setmana': 'Descripcio_dia_setmana', 'Dia setmana': 'Dia_setmana', 'Descripció tipus dia': 'Descripcio_tipus_dia', 'Descripci¢ tipus dia': 'Descripcio_tipus_dia', 'NK Any': 'NK_ Any', 'Any': 'NK_ Any', 'Mes de any': 'Mes_any', 'Nom mes':  'Nom_mes', 'Dia de mes': 'Dia_mes', 'Hora de dia':  'Hora_dia', 'Descripció torn':  'Descripcio_torn', 'Descripci¢ causa vianant': 'Descripcio_causa_vianant', 'Descripció causa vianant': 'Descripcio_causa_vianant', 'Desc. Tipus vehicle implicat': 'Desc_Tipus_vehicle_implicat', 'Descripci¢ sexe': 'Descripcio_sexe', 'Descripció sexe': 'Descripcio_sexe', 'Descripci¢ tipus persona': 'Descripcio_tipus_persona', 'Descripció tipus persona': 'Descripcio_tipus_persona', 'Descripció victimització': 'Descripcio_victimitzacio', 'Descripci¢ victimitzaci¢': 'Descripcio_victimitzacio', 'Coordenada UTM (Y)': 'Coordenada_UTM_Y', 'Coordenada UTM (X)': 'Coordenada_UTM_X', 'Descripcio_Motiu_desplaçament_vianant': 'Descripcio_Motiu_despl_vianant', 'Descripcio_Motiu_desplaÃ§ament_vianant': 'Descripcio_Motiu_despl_vianant', 'Descripció_tipus_persona': 'Descripcio_tipus_persona', 'Descripció_sexe': 'Descripcio_sexe', 'Descripcio_Lloc_atropellament_vianat': 'Descripcio_Lloc_atropellament_vianant', 'Descripcio_Motiu_desplaçament_conductor': 'Descripcio_Motiu_despl_conductor', 'Descripcio_Motiu_desplaĂ§ament_conductor': 'Descripcio_Motiu_despl_conductor', 'Descripcio_Motiu_desplaÃ§ament_conductor': 'Descripcio_Motiu_despl_conductor', 'Descripcio_Motiu_desplaçament_vianant': 'Descripcio_Motiu_despl_vianant', 'Descripcio_Motiu_desplaĂ§ament_vianant': 'Descripcio_Motiu_despl_vianant', 'Coordenada_UTM_X_ED50': 'Coordenada_UTM_X', 'Coordenada UTM (X)': 'Coordenada_UTM_X', 'Coordenada_UTM_Y_ED50': 'Coordenada_UTM_Y', 'Coordenada UTM (Y)': 'Coordenada_UTM_Y'}\n",
    "    dfTemp = dfTemp.rename(columns=nou)\n",
    "    \n",
    "    # Fem un merge amb els dataframes ja carregats:\n",
    "    dfAccidents = pd.concat([dfAccidents, dfTemp], ignore_index=True)\n",
    "    \n",
    "files, columnes = dfAccidents.shape\n",
    "\n",
    "print(\"Total d'observacions:\", files)\n",
    "print(\"Total de variables:\", columnes)"
   ]
  },
  {
   "cell_type": "code",
   "execution_count": 4,
   "id": "05a426c1",
   "metadata": {
    "scrolled": false
   },
   "outputs": [
    {
     "name": "stdout",
     "output_type": "stream",
     "text": [
      "  Nom_districte                      Nom_barri Nom_carrer  \\\n",
      "0      Eixample         la Dreta de l'Eixample     Tetuan   \n",
      "1      Eixample         la Dreta de l'Eixample     Tetuan   \n",
      "2      Eixample                  el Fort Pienc   Sardenya   \n",
      "3   Sant Andreu                     la Sagrera  Meridiana   \n",
      "4    Sant Martí  la Vila Olímpica del Poblenou     Icària   \n",
      "\n",
      "  Descripcio_dia_setmana  NK_ Any Nom_mes  Dia_mes  Hora_dia Descripcio_torn  \\\n",
      "0              Divendres     2010   Gener        1         7            Matí   \n",
      "1              Divendres     2010   Gener        1         7            Matí   \n",
      "2              Divendres     2010   Gener        1        14           Tarda   \n",
      "3              Divendres     2010   Gener        1        20           Tarda   \n",
      "4              Divendres     2010   Gener        1        21           Tarda   \n",
      "\n",
      "  Desc_Tipus_vehicle_implicat Descripcio_tipus_persona Descripcio_sexe Edat  \\\n",
      "0                 Motocicleta                Conductor            Home   30   \n",
      "1                 Motocicleta                Conductor            Home   39   \n",
      "2                  Ciclomotor                Conductor            Home   39   \n",
      "3                 Motocicleta                Conductor            Home   34   \n",
      "4                     Turismo                Conductor            Dona   32   \n",
      "\n",
      "  Descripcio_victimitzacio  Descripcio_causa_vianant Coordenada_UTM_X  \\\n",
      "0               Ferit lleu  No és causa del  vianant        431179,27   \n",
      "1               Ferit lleu  No és causa del  vianant        431179,27   \n",
      "2               Ferit lleu  No és causa del  vianant        431444,51   \n",
      "3               Ferit lleu  No és causa del  vianant        432062,05   \n",
      "4               Ferit lleu  No és causa del  vianant        432826,97   \n",
      "\n",
      "  Coordenada_UTM_Y  \n",
      "0       4583198,28  \n",
      "1       4583198,28  \n",
      "2       4583631,60  \n",
      "3       4586479,84  \n",
      "4       4582584,02  \n"
     ]
    }
   ],
   "source": [
    "# Seleccionem els camps que utilitzarem per la visualització:\n",
    "dfImplicatsAccidentsBCN = dfAccidents[['Nom_districte', 'Nom_barri', 'Nom_carrer', 'Descripcio_dia_setmana', 'NK_ Any', 'Nom_mes', 'Dia_mes', 'Hora_dia', 'Descripcio_torn', 'Desc_Tipus_vehicle_implicat', 'Descripcio_tipus_persona', 'Descripcio_sexe', 'Edat', 'Descripcio_victimitzacio', 'Descripcio_causa_vianant', 'Coordenada_UTM_X', 'Coordenada_UTM_Y']]\n",
    "print(dfImplicatsAccidentsBCN.head())"
   ]
  },
  {
   "cell_type": "code",
   "execution_count": 5,
   "id": "c3939231",
   "metadata": {
    "scrolled": false
   },
   "outputs": [
    {
     "name": "stderr",
     "output_type": "stream",
     "text": [
      "C:\\Users\\van_b\\AppData\\Local\\Temp\\ipykernel_14264\\3988812267.py:16: FutureWarning: The default value of regex will change from True to False in a future version. In addition, single character regular expressions will *not* be treated as literal strings when regex=True.\n",
      "  dfImplicatsAccidentsBCN['Coordenada_UTM_X'] = dfImplicatsAccidentsBCN['Coordenada_UTM_X'].str.replace('.', ',')\n",
      "C:\\Users\\van_b\\AppData\\Local\\Temp\\ipykernel_14264\\3988812267.py:17: FutureWarning: The default value of regex will change from True to False in a future version. In addition, single character regular expressions will *not* be treated as literal strings when regex=True.\n",
      "  dfImplicatsAccidentsBCN['Coordenada_UTM_Y'] = dfImplicatsAccidentsBCN['Coordenada_UTM_Y'].str.replace('.', ',')\n"
     ]
    },
    {
     "name": "stdout",
     "output_type": "stream",
     "text": [
      "count    146355.000000\n",
      "mean         38.046469\n",
      "std          16.630376\n",
      "min          -1.000000\n",
      "25%          26.000000\n",
      "50%          36.000000\n",
      "75%          48.000000\n",
      "max         120.000000\n",
      "Name: Edat, dtype: float64\n"
     ]
    }
   ],
   "source": [
    "# Modifiquem alguns caràcters que no són correctes degut a les diferents codificacions dels fitxers:\n",
    "dfImplicatsAccidentsBCN = dfImplicatsAccidentsBCN.replace('∑','À', regex=True)\n",
    "dfImplicatsAccidentsBCN = dfImplicatsAccidentsBCN.replace('Ö','à', regex=True)\n",
    "dfImplicatsAccidentsBCN = dfImplicatsAccidentsBCN.replace('ŕ','à', regex=True)\n",
    "dfImplicatsAccidentsBCN = dfImplicatsAccidentsBCN.replace('Ç','é', regex=True)\n",
    "dfImplicatsAccidentsBCN = dfImplicatsAccidentsBCN.replace('ä','è', regex=True)\n",
    "dfImplicatsAccidentsBCN = dfImplicatsAccidentsBCN.replace('č','è', regex=True)\n",
    "dfImplicatsAccidentsBCN = dfImplicatsAccidentsBCN.replace('°','í', regex=True)\n",
    "dfImplicatsAccidentsBCN = dfImplicatsAccidentsBCN.replace('ã','ï', regex=True)\n",
    "dfImplicatsAccidentsBCN = dfImplicatsAccidentsBCN.replace('ď','ï', regex=True)\n",
    "dfImplicatsAccidentsBCN = dfImplicatsAccidentsBCN.replace('¢','ó', regex=True)\n",
    "dfImplicatsAccidentsBCN = dfImplicatsAccidentsBCN.replace('ï','ò', regex=True)\n",
    "dfImplicatsAccidentsBCN = dfImplicatsAccidentsBCN.replace('ň','ò', regex=True)\n",
    "dfImplicatsAccidentsBCN = dfImplicatsAccidentsBCN.replace('£','ú', regex=True)\n",
    "dfImplicatsAccidentsBCN = dfImplicatsAccidentsBCN.replace('á','ç', regex=True)\n",
    "dfImplicatsAccidentsBCN['Coordenada_UTM_X'] = dfImplicatsAccidentsBCN['Coordenada_UTM_X'].str.replace('.', ',')\n",
    "dfImplicatsAccidentsBCN['Coordenada_UTM_Y'] = dfImplicatsAccidentsBCN['Coordenada_UTM_Y'].str.replace('.', ',')\n",
    "\n",
    "# Aprofitem per modificar alguns valors que es troben en català i castellà en algunes variables, així com agrupem alguns valors:\n",
    "dfImplicatsAccidentsBCN['Nom_barri'] = dfImplicatsAccidentsBCN['Nom_barri'].replace('el Poble-sec', 'el Poble Sec')\n",
    "dfImplicatsAccidentsBCN['Desc_Tipus_vehicle_implicat'] = dfImplicatsAccidentsBCN['Desc_Tipus_vehicle_implicat'].replace( 'Altres vehicles amb motor', 'Altres vehicles amb motor')\n",
    "dfImplicatsAccidentsBCN['Desc_Tipus_vehicle_implicat'] = dfImplicatsAccidentsBCN['Desc_Tipus_vehicle_implicat'].replace( 'Altres vehicles sense motor', 'Altres vehicles sense motor')\n",
    "dfImplicatsAccidentsBCN['Desc_Tipus_vehicle_implicat'] = dfImplicatsAccidentsBCN['Desc_Tipus_vehicle_implicat'].replace( 'Ambulància', 'Ambulància')\n",
    "dfImplicatsAccidentsBCN['Desc_Tipus_vehicle_implicat'] = dfImplicatsAccidentsBCN['Desc_Tipus_vehicle_implicat'].replace( 'Autobús', 'Autocar')\n",
    "dfImplicatsAccidentsBCN['Desc_Tipus_vehicle_implicat'] = dfImplicatsAccidentsBCN['Desc_Tipus_vehicle_implicat'].replace( 'Autobús articulado', 'Autocar')\n",
    "dfImplicatsAccidentsBCN['Desc_Tipus_vehicle_implicat'] = dfImplicatsAccidentsBCN['Desc_Tipus_vehicle_implicat'].replace( 'Autobús articulat', 'Autocar')\n",
    "dfImplicatsAccidentsBCN['Desc_Tipus_vehicle_implicat'] = dfImplicatsAccidentsBCN['Desc_Tipus_vehicle_implicat'].replace( 'Autocar', 'Autocar')\n",
    "dfImplicatsAccidentsBCN['Desc_Tipus_vehicle_implicat'] = dfImplicatsAccidentsBCN['Desc_Tipus_vehicle_implicat'].replace( 'Autocaravana', 'Autocaravana')\n",
    "dfImplicatsAccidentsBCN['Desc_Tipus_vehicle_implicat'] = dfImplicatsAccidentsBCN['Desc_Tipus_vehicle_implicat'].replace( 'Bicicleta', 'Bicicleta')\n",
    "dfImplicatsAccidentsBCN['Desc_Tipus_vehicle_implicat'] = dfImplicatsAccidentsBCN['Desc_Tipus_vehicle_implicat'].replace( 'Camió rígid <= 3,5 tones', 'Camió')\n",
    "dfImplicatsAccidentsBCN['Desc_Tipus_vehicle_implicat'] = dfImplicatsAccidentsBCN['Desc_Tipus_vehicle_implicat'].replace( 'Camió rígid > 3,5 tones', 'Camió')\n",
    "dfImplicatsAccidentsBCN['Desc_Tipus_vehicle_implicat'] = dfImplicatsAccidentsBCN['Desc_Tipus_vehicle_implicat'].replace( 'Camión <= 3,5 Tm', 'Camió')\n",
    "dfImplicatsAccidentsBCN['Desc_Tipus_vehicle_implicat'] = dfImplicatsAccidentsBCN['Desc_Tipus_vehicle_implicat'].replace( 'Camión > 3,5 Tm', 'Camió')\n",
    "dfImplicatsAccidentsBCN['Desc_Tipus_vehicle_implicat'] = dfImplicatsAccidentsBCN['Desc_Tipus_vehicle_implicat'].replace( 'Carro', 'Carro')\n",
    "dfImplicatsAccidentsBCN['Desc_Tipus_vehicle_implicat'] = dfImplicatsAccidentsBCN['Desc_Tipus_vehicle_implicat'].replace( 'Ciclomotor', 'Ciclomotor')\n",
    "dfImplicatsAccidentsBCN['Desc_Tipus_vehicle_implicat'] = dfImplicatsAccidentsBCN['Desc_Tipus_vehicle_implicat'].replace( 'Cuadriciclo <75cc', 'Quadricicle')\n",
    "dfImplicatsAccidentsBCN['Desc_Tipus_vehicle_implicat'] = dfImplicatsAccidentsBCN['Desc_Tipus_vehicle_implicat'].replace( 'Cuadriciclo >=75cc', 'Quadricicle')\n",
    "dfImplicatsAccidentsBCN['Desc_Tipus_vehicle_implicat'] = dfImplicatsAccidentsBCN['Desc_Tipus_vehicle_implicat'].replace( 'Desconegut', 'Desconegut')\n",
    "dfImplicatsAccidentsBCN['Desc_Tipus_vehicle_implicat'] = dfImplicatsAccidentsBCN['Desc_Tipus_vehicle_implicat'].replace( 'Furgoneta', 'Cotxe')\n",
    "dfImplicatsAccidentsBCN['Desc_Tipus_vehicle_implicat'] = dfImplicatsAccidentsBCN['Desc_Tipus_vehicle_implicat'].replace( 'Maquinaria de obras', 'Maquinària d\\'obres i serveis')\n",
    "dfImplicatsAccidentsBCN['Desc_Tipus_vehicle_implicat'] = dfImplicatsAccidentsBCN['Desc_Tipus_vehicle_implicat'].replace( 'Maquinària d\\'obres i serveis', 'Maquinària d\\'obres i serveis')\n",
    "dfImplicatsAccidentsBCN['Desc_Tipus_vehicle_implicat'] = dfImplicatsAccidentsBCN['Desc_Tipus_vehicle_implicat'].replace( 'Microbus <= 17', 'Microbus')\n",
    "dfImplicatsAccidentsBCN['Desc_Tipus_vehicle_implicat'] = dfImplicatsAccidentsBCN['Desc_Tipus_vehicle_implicat'].replace( 'Microbús <= 17', 'Microbus')\n",
    "dfImplicatsAccidentsBCN['Desc_Tipus_vehicle_implicat'] = dfImplicatsAccidentsBCN['Desc_Tipus_vehicle_implicat'].replace( 'Microbus <=17 plazas', 'Microbus')\n",
    "dfImplicatsAccidentsBCN['Desc_Tipus_vehicle_implicat'] = dfImplicatsAccidentsBCN['Desc_Tipus_vehicle_implicat'].replace( 'Motocicleta', 'Motocicleta')\n",
    "dfImplicatsAccidentsBCN['Desc_Tipus_vehicle_implicat'] = dfImplicatsAccidentsBCN['Desc_Tipus_vehicle_implicat'].replace( 'Otros vehíc. a motor', 'Altres vehicles amb motor')\n",
    "dfImplicatsAccidentsBCN['Desc_Tipus_vehicle_implicat'] = dfImplicatsAccidentsBCN['Desc_Tipus_vehicle_implicat'].replace( 'Pick-up', 'Cotxe')\n",
    "dfImplicatsAccidentsBCN['Desc_Tipus_vehicle_implicat'] = dfImplicatsAccidentsBCN['Desc_Tipus_vehicle_implicat'].replace( 'Quadricicle < 75 cc', 'Quadricicle')\n",
    "dfImplicatsAccidentsBCN['Desc_Tipus_vehicle_implicat'] = dfImplicatsAccidentsBCN['Desc_Tipus_vehicle_implicat'].replace( 'Quadricicle > 75 cc', 'Quadricicle')\n",
    "dfImplicatsAccidentsBCN['Desc_Tipus_vehicle_implicat'] = dfImplicatsAccidentsBCN['Desc_Tipus_vehicle_implicat'].replace( 'Taxi', 'Taxi')\n",
    "dfImplicatsAccidentsBCN['Desc_Tipus_vehicle_implicat'] = dfImplicatsAccidentsBCN['Desc_Tipus_vehicle_implicat'].replace( 'Todo terreno', 'Cotxe')\n",
    "dfImplicatsAccidentsBCN['Desc_Tipus_vehicle_implicat'] = dfImplicatsAccidentsBCN['Desc_Tipus_vehicle_implicat'].replace( 'Tot terreny', 'Cotxe')\n",
    "dfImplicatsAccidentsBCN['Desc_Tipus_vehicle_implicat'] = dfImplicatsAccidentsBCN['Desc_Tipus_vehicle_implicat'].replace( 'Tractocamión', 'Tractor camió')\n",
    "dfImplicatsAccidentsBCN['Desc_Tipus_vehicle_implicat'] = dfImplicatsAccidentsBCN['Desc_Tipus_vehicle_implicat'].replace( 'Tractor camió', 'Tractor camió')\n",
    "dfImplicatsAccidentsBCN['Desc_Tipus_vehicle_implicat'] = dfImplicatsAccidentsBCN['Desc_Tipus_vehicle_implicat'].replace( 'Tranvía o tren', 'Tren o tramvia')\n",
    "dfImplicatsAccidentsBCN['Desc_Tipus_vehicle_implicat'] = dfImplicatsAccidentsBCN['Desc_Tipus_vehicle_implicat'].replace( 'Tren o tramvia', 'Tren o tramvia')\n",
    "dfImplicatsAccidentsBCN['Desc_Tipus_vehicle_implicat'] = dfImplicatsAccidentsBCN['Desc_Tipus_vehicle_implicat'].replace( 'Tricicle', 'Tricicle')\n",
    "dfImplicatsAccidentsBCN['Desc_Tipus_vehicle_implicat'] = dfImplicatsAccidentsBCN['Desc_Tipus_vehicle_implicat'].replace( 'Turisme', 'Cotxe')\n",
    "dfImplicatsAccidentsBCN['Desc_Tipus_vehicle_implicat'] = dfImplicatsAccidentsBCN['Desc_Tipus_vehicle_implicat'].replace( 'Turismo', 'Cotxe')\n",
    "dfImplicatsAccidentsBCN['Desc_Tipus_vehicle_implicat'] = dfImplicatsAccidentsBCN['Desc_Tipus_vehicle_implicat'].replace( 'Veh. mobilitat personal amb motor', 'Veh. mobilitat personal amb motor')\n",
    "dfImplicatsAccidentsBCN['Desc_Tipus_vehicle_implicat'] = dfImplicatsAccidentsBCN['Desc_Tipus_vehicle_implicat'].replace( 'Veh. mobilitat personal sense motor', 'Veh. mobilitat personal sense motor')\n",
    "dfImplicatsAccidentsBCN['Descripcio_victimitzacio'] = dfImplicatsAccidentsBCN['Descripcio_victimitzacio'].replace('Es desconeix', 'Desconegut')\n",
    "\n",
    "# Omplim la variable del torn per aquells casos que no tenen ninguna informació:\n",
    "def actualitzar_torn(row):\n",
    "    if pd.isnull(row['Descripcio_torn']):\n",
    "        if 6 <= row['Hora_dia'] <= 13:\n",
    "            return 'Matí'\n",
    "        elif 14 <= row['Hora_dia'] <= 21:\n",
    "            return 'Tarda'\n",
    "        else:\n",
    "            return 'Nit'\n",
    "    else:\n",
    "        return row['Descripcio_torn']\n",
    "\n",
    "dfImplicatsAccidentsBCN['Descripcio_torn'] = dfImplicatsAccidentsBCN.apply(actualitzar_torn, axis=1)\n",
    "\n",
    "# La variable de l'edat conté el text \"Desconegut\", que canviarem pel valor -1, així com totes aquelles observacions on l'edat \n",
    "# sigui 0 i el tipus de persona sigui conductor, ja que no tindria massa lògica, i convertirem la variable al tipus enter.\n",
    "# Tot i que s'han vist valors una mica extranys respecte a l'edat en relació a les observacions, les mantindrem per després\n",
    "# gestionar-les durant la visualització.\n",
    "dfImplicatsAccidentsBCN['Edat'] = dfImplicatsAccidentsBCN['Edat'].replace('Desconegut', '-1')\n",
    "dfImplicatsAccidentsBCN.loc[(dfImplicatsAccidentsBCN['Edat'] == '0') & (dfImplicatsAccidentsBCN['Descripcio_tipus_persona'] == 'Conductor'), 'Edat'] = '-1'\n",
    "dfImplicatsAccidentsBCN['Edat'] = dfImplicatsAccidentsBCN['Edat'].astype(int)\n",
    "print(dfImplicatsAccidentsBCN['Edat'].describe())"
   ]
  },
  {
   "cell_type": "code",
   "execution_count": 6,
   "id": "8e3f52e6",
   "metadata": {},
   "outputs": [
    {
     "name": "stdout",
     "output_type": "stream",
     "text": [
      "Valors nul·ls:\n",
      "--------------\n",
      "Nom_districte                  False\n",
      "Nom_barri                      False\n",
      "Nom_carrer                      True\n",
      "Descripcio_dia_setmana         False\n",
      "NK_ Any                        False\n",
      "Nom_mes                        False\n",
      "Dia_mes                        False\n",
      "Hora_dia                       False\n",
      "Descripcio_torn                False\n",
      "Desc_Tipus_vehicle_implicat    False\n",
      "Descripcio_tipus_persona       False\n",
      "Descripcio_sexe                False\n",
      "Edat                           False\n",
      "Descripcio_victimitzacio       False\n",
      "Descripcio_causa_vianant       False\n",
      "Coordenada_UTM_X                True\n",
      "Coordenada_UTM_Y                True\n",
      "dtype: bool\n",
      "\n",
      "\n",
      "\n",
      "Valors N/A:\n",
      "-----------\n",
      "Nom_districte                  False\n",
      "Nom_barri                      False\n",
      "Nom_carrer                      True\n",
      "Descripcio_dia_setmana         False\n",
      "NK_ Any                        False\n",
      "Nom_mes                        False\n",
      "Dia_mes                        False\n",
      "Hora_dia                       False\n",
      "Descripcio_torn                False\n",
      "Desc_Tipus_vehicle_implicat    False\n",
      "Descripcio_tipus_persona       False\n",
      "Descripcio_sexe                False\n",
      "Edat                           False\n",
      "Descripcio_victimitzacio       False\n",
      "Descripcio_causa_vianant       False\n",
      "Coordenada_UTM_X                True\n",
      "Coordenada_UTM_Y                True\n",
      "dtype: bool\n"
     ]
    }
   ],
   "source": [
    "# Comprovem si hi ha valors nul·ls o N/A:\n",
    "print(\"Valors nul·ls:\")\n",
    "print(\"--------------\")\n",
    "print(dfImplicatsAccidentsBCN.isnull().any())\n",
    "print(\"\\n\\n\")\n",
    "print(\"Valors N/A:\")\n",
    "print(\"-----------\")\n",
    "print(dfImplicatsAccidentsBCN.isna().any())"
   ]
  },
  {
   "cell_type": "markdown",
   "id": "931d0cdc",
   "metadata": {},
   "source": [
    "En aquest cas, les úniques variables que tenen valors no complets són el nom del carrer i les coordenades de l'accident. En el cas que ens ocupa, no tindrà major relevància, pel que posarem els valors com a 'Desconegut' quan al carrer:"
   ]
  },
  {
   "cell_type": "code",
   "execution_count": 7,
   "id": "ee5322ea",
   "metadata": {},
   "outputs": [],
   "source": [
    "dfImplicatsAccidentsBCN['Nom_carrer'] = dfImplicatsAccidentsBCN['Nom_carrer'].fillna('Desconegut')\n",
    "dfImplicatsAccidentsBCN['Coordenada_UTM_X'] = dfImplicatsAccidentsBCN['Coordenada_UTM_X'].fillna(\"-1\")\n",
    "dfImplicatsAccidentsBCN['Coordenada_UTM_Y'] = dfImplicatsAccidentsBCN['Coordenada_UTM_Y'].fillna(\"-1\")"
   ]
  },
  {
   "cell_type": "markdown",
   "id": "24fe439a",
   "metadata": {},
   "source": [
    "Per acabar, exportem el conjunt de dades resultant en un fitxer CSV per poder utilitzar-lo posteriorment:"
   ]
  },
  {
   "cell_type": "code",
   "execution_count": 8,
   "id": "666bdcb1",
   "metadata": {},
   "outputs": [],
   "source": [
    "# Guardem el conjunt de dades resultant:\n",
    "dfImplicatsAccidentsBCN.to_csv('dfImplicatsAccidentsBCN.csv', index=False, quotechar='\"')"
   ]
  },
  {
   "cell_type": "code",
   "execution_count": null,
   "id": "963ecdc5",
   "metadata": {},
   "outputs": [],
   "source": []
  }
 ],
 "metadata": {
  "kernelspec": {
   "display_name": "Python 3 (ipykernel)",
   "language": "python",
   "name": "python3"
  },
  "language_info": {
   "codemirror_mode": {
    "name": "ipython",
    "version": 3
   },
   "file_extension": ".py",
   "mimetype": "text/x-python",
   "name": "python",
   "nbconvert_exporter": "python",
   "pygments_lexer": "ipython3",
   "version": "3.10.13"
  }
 },
 "nbformat": 4,
 "nbformat_minor": 5
}
